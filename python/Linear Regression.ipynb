{
 "cells": [
  {
   "cell_type": "markdown",
   "metadata": {},
   "source": [
    "# Linear Regression with Python"
   ]
  },
  {
   "cell_type": "code",
   "execution_count": 1,
   "metadata": {},
   "outputs": [],
   "source": [
    "import numpy as np\n",
    "from ml_utils import ml_lib"
   ]
  },
  {
   "cell_type": "markdown",
   "metadata": {},
   "source": [
    "## Linear Regression with one feature"
   ]
  },
  {
   "cell_type": "code",
   "execution_count": 2,
   "metadata": {},
   "outputs": [],
   "source": [
    "# Load the dataset\n",
    "data = np.loadtxt('../data/data1.txt', delimiter=',')"
   ]
  },
  {
   "cell_type": "code",
   "execution_count": 3,
   "metadata": {},
   "outputs": [],
   "source": [
    "# Select X and Y\n",
    "X = np.array(data[:, :-1])\n",
    "y = np.array(data[:, -1:])\n",
    "\n",
    "# Add intercept column\n",
    "X = np.append(np.ones((y.size, 1)), X, axis=1)\n",
    "\n",
    "# Thetas initialization\n",
    "theta = np.zeros((X.shape[1], 1))\n",
    "\n",
    "# Parameters\n",
    "num_iters = 1500\n",
    "alpha = 0.01"
   ]
  },
  {
   "cell_type": "code",
   "execution_count": 4,
   "metadata": {},
   "outputs": [
    {
     "name": "stdout",
     "output_type": "stream",
     "text": [
      "Cost at initialization : 32.072733877455676.\n"
     ]
    }
   ],
   "source": [
    "print('Cost at initialization : {}.'.format(ml_lib.meanSquaredErrorCost(X, y, theta)))"
   ]
  },
  {
   "cell_type": "code",
   "execution_count": 5,
   "metadata": {},
   "outputs": [
    {
     "name": "stdout",
     "output_type": "stream",
     "text": [
      "Theta computed from gradient descent : -3.63029143940436, 1.166362350335582.\n"
     ]
    }
   ],
   "source": [
    "[theta, J_history] = ml_lib.linearRegressionGradientDescent(X, y, theta, alpha, num_iters)\n",
    "print('Theta computed from gradient descent : {}, {}.'.format(theta[0][0], theta[1][0]))"
   ]
  },
  {
   "cell_type": "code",
   "execution_count": 6,
   "metadata": {},
   "outputs": [
    {
     "name": "stdout",
     "output_type": "stream",
     "text": [
      "Cost after gradient descent : 4.483388256587725.\n"
     ]
    }
   ],
   "source": [
    "print('Cost after gradient descent : {}.'.format(ml_lib.meanSquaredErrorCost(X, y, theta)))"
   ]
  },
  {
   "cell_type": "code",
   "execution_count": 7,
   "metadata": {},
   "outputs": [
    {
     "name": "stdout",
     "output_type": "stream",
     "text": [
      "For population = 35,000, we predict a profit of 4519.7678677017675.\n"
     ]
    }
   ],
   "source": [
    "predict1 = np.array([1, 3.5]).dot(theta)*10000\n",
    "print('For population = 35,000, we predict a profit of {}.'.format(predict1[0]))"
   ]
  },
  {
   "cell_type": "code",
   "execution_count": 8,
   "metadata": {},
   "outputs": [
    {
     "name": "stdout",
     "output_type": "stream",
     "text": [
      "For population = 70,000, we predict a profit of 45342.45012944714.\n"
     ]
    }
   ],
   "source": [
    "predict2 = np.array([1, 7]).dot(theta)*10000\n",
    "print('For population = 70,000, we predict a profit of {}.'.format(predict2[0]))"
   ]
  },
  {
   "cell_type": "markdown",
   "metadata": {},
   "source": [
    "## Linear Regression with two features"
   ]
  },
  {
   "cell_type": "code",
   "execution_count": 9,
   "metadata": {},
   "outputs": [],
   "source": [
    "data2 = np.loadtxt('../data/data2.txt', delimiter=',')"
   ]
  },
  {
   "cell_type": "code",
   "execution_count": 10,
   "metadata": {},
   "outputs": [],
   "source": [
    "# Select X and Y\n",
    "X = data2[:, :-1]\n",
    "y = data2[:, -1]\n",
    "y = y.reshape(y.size, 1)\n",
    "\n",
    "# Normalize (save time for gradient descent)\n",
    "[X, mu, sigma] = ml_lib.normalizeFeature(X)\n",
    "\n",
    "# Add intercept column\n",
    "X = np.append(np.ones((y.size, 1)), X, axis=1)\n",
    "\n",
    "# Thetas initialization\n",
    "theta = np.zeros((X.shape[1], 1))\n",
    "\n",
    "# Parameters\n",
    "num_iters = 400\n",
    "alpha = 0.1"
   ]
  },
  {
   "cell_type": "code",
   "execution_count": 11,
   "metadata": {},
   "outputs": [
    {
     "name": "stdout",
     "output_type": "stream",
     "text": [
      "Cost at initialization : 65591548106.45744.\n"
     ]
    }
   ],
   "source": [
    "print('Cost at initialization : {}.'.format(ml_lib.meanSquaredErrorCost(X, y, theta)))"
   ]
  },
  {
   "cell_type": "code",
   "execution_count": 12,
   "metadata": {},
   "outputs": [
    {
     "name": "stdout",
     "output_type": "stream",
     "text": [
      "Theta computed from gradient descent : 340412.65957446786, 110631.04895815473, -6649.47295012843.\n"
     ]
    }
   ],
   "source": [
    "[theta, J_history] = ml_lib.linearRegressionGradientDescent(X, y, theta, alpha, num_iters)\n",
    "print('Theta computed from gradient descent : {}, {}, {}.'.format(theta[0][0], theta[1][0], theta[2, 0]))"
   ]
  },
  {
   "cell_type": "code",
   "execution_count": 13,
   "metadata": {},
   "outputs": [
    {
     "name": "stdout",
     "output_type": "stream",
     "text": [
      "Cost after gradient descent : 2043280050.602829.\n"
     ]
    }
   ],
   "source": [
    "print('Cost after gradient descent : {}.'.format(ml_lib.meanSquaredErrorCost(X, y, theta)))"
   ]
  },
  {
   "cell_type": "code",
   "execution_count": 14,
   "metadata": {},
   "outputs": [
    {
     "name": "stdout",
     "output_type": "stream",
     "text": [
      "Predicted price of a 1650 sq-ft, 3 br house (using gradient descent): 293081.4646222758.\n"
     ]
    }
   ],
   "source": [
    "test = np.array([1650, 3])\n",
    "normalizedTest = np.divide(test-mu, sigma) \n",
    "test = np.append(np.ones(1), normalizedTest)\n",
    "predict3 = test.dot(theta)\n",
    "print('Predicted price of a 1650 sq-ft, 3 br house (using gradient descent): {}.'.format(predict3[0]))"
   ]
  },
  {
   "cell_type": "markdown",
   "metadata": {},
   "source": [
    "## Linear Regression with Normal Equation"
   ]
  },
  {
   "cell_type": "code",
   "execution_count": 15,
   "metadata": {},
   "outputs": [
    {
     "name": "stdout",
     "output_type": "stream",
     "text": [
      "Theta computed from Normal Equation : 89597.90954360693, 139.21067401759794, -8738.019112551454.\n"
     ]
    }
   ],
   "source": [
    "# Select X and Y\n",
    "X = data2[:, :-1]\n",
    "y = data2[:, -1].reshape(y.size, 1)\n",
    "\n",
    "# Add intercept column\n",
    "X = np.append(np.ones((y.size, 1)), X, axis=1)\n",
    "\n",
    "# Thetas initialization\n",
    "theta = ml_lib.normalEquation(X, y)\n",
    "print('Theta computed from Normal Equation : {}, {}, {}.'.format(theta[0][0], theta[1][0], theta[2][0]))"
   ]
  },
  {
   "cell_type": "code",
   "execution_count": 16,
   "metadata": {},
   "outputs": [
    {
     "name": "stdout",
     "output_type": "stream",
     "text": [
      "Cost after Normal Equation : 2043280050.6028285.\n"
     ]
    }
   ],
   "source": [
    "print('Cost after Normal Equation : {}.'.format(ml_lib.meanSquaredErrorCost(X, y, theta)))"
   ]
  },
  {
   "cell_type": "code",
   "execution_count": 17,
   "metadata": {},
   "outputs": [
    {
     "name": "stdout",
     "output_type": "stream",
     "text": [
      "Predicted price of a 1650 sq-ft, 3 br house (using normal equations): 293081.4643349892.\n"
     ]
    }
   ],
   "source": [
    "predict4 = np.array([1, 1650, 3]).dot(theta)\n",
    "print('Predicted price of a 1650 sq-ft, 3 br house (using normal equations): {}.'.format(predict4[0]))"
   ]
  }
 ],
 "metadata": {
  "kernelspec": {
   "display_name": "Python 3",
   "language": "python",
   "name": "python3"
  },
  "language_info": {
   "codemirror_mode": {
    "name": "ipython",
    "version": 3
   },
   "file_extension": ".py",
   "mimetype": "text/x-python",
   "name": "python",
   "nbconvert_exporter": "python",
   "pygments_lexer": "ipython3",
   "version": "3.7.3"
  }
 },
 "nbformat": 4,
 "nbformat_minor": 2
}
